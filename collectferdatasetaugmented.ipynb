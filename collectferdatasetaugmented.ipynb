{
 "cells": [
  {
   "cell_type": "code",
   "execution_count": 1,
   "id": "275e8d30",
   "metadata": {
    "_cell_guid": "b1076dfc-b9ad-4769-8c92-a6c4dae69d19",
    "_uuid": "8f2839f25d086af736a60e9eeb907d3b93b6e0e5",
    "editable": false,
    "execution": {
     "iopub.execute_input": "2022-03-16T10:42:48.666377Z",
     "iopub.status.busy": "2022-03-16T10:42:48.665689Z",
     "iopub.status.idle": "2022-03-16T10:42:48.671498Z",
     "shell.execute_reply": "2022-03-16T10:42:48.672067Z",
     "shell.execute_reply.started": "2022-03-16T10:32:27.768365Z"
    },
    "papermill": {
     "duration": 0.047192,
     "end_time": "2022-03-16T10:42:48.672374",
     "exception": false,
     "start_time": "2022-03-16T10:42:48.625182",
     "status": "completed"
    },
    "tags": []
   },
   "outputs": [
    {
     "name": "stdout",
     "output_type": "stream",
     "text": [
      "/kaggle/input/challenges-in-representation-learning-facial-expression-recognition-challenge/icml_face_data.csv\n",
      "/kaggle/input/challenges-in-representation-learning-facial-expression-recognition-challenge/fer2013.tar.gz\n",
      "/kaggle/input/challenges-in-representation-learning-facial-expression-recognition-challenge/example_submission.csv\n",
      "/kaggle/input/challenges-in-representation-learning-facial-expression-recognition-challenge/train.csv\n",
      "/kaggle/input/challenges-in-representation-learning-facial-expression-recognition-challenge/test.csv\n"
     ]
    }
   ],
   "source": [
    "# This Python 3 environment comes with many helpful analytics libraries installed\n",
    "# It is defined by the kaggle/python Docker image: https://github.com/kaggle/docker-python\n",
    "# For example, here's several helpful packages to load\n",
    "\n",
    "import numpy as np # linear algebra\n",
    "import pandas as pd # data processing, CSV file I/O (e.g. pd.read_csv)\n",
    "\n",
    "# Input data files are available in the read-only \"../input/\" directory\n",
    "# For example, running this (by clicking run or pressing Shift+Enter) will list all files under the input directory\n",
    "\n",
    "import os\n",
    "for dirname, _, filenames in os.walk('/kaggle/input'):\n",
    "    for filename in filenames:\n",
    "        print(os.path.join(dirname, filename))\n",
    "\n",
    "# You can write up to 20GB to the current directory (/kaggle/working/) that gets preserved as output when you create a version using \"Save & Run All\" \n",
    "# You can also write temporary files to /kaggle/temp/, but they won't be saved outside of the current session"
   ]
  },
  {
   "cell_type": "code",
   "execution_count": 2,
   "id": "5e7f7fad",
   "metadata": {
    "execution": {
     "iopub.execute_input": "2022-03-16T10:42:48.742336Z",
     "iopub.status.busy": "2022-03-16T10:42:48.741436Z",
     "iopub.status.idle": "2022-03-16T10:42:51.216684Z",
     "shell.execute_reply": "2022-03-16T10:42:51.217230Z",
     "shell.execute_reply.started": "2022-03-16T10:32:27.797321Z"
    },
    "papermill": {
     "duration": 2.515499,
     "end_time": "2022-03-16T10:42:51.217425",
     "exception": false,
     "start_time": "2022-03-16T10:42:48.701926",
     "status": "completed"
    },
    "tags": []
   },
   "outputs": [],
   "source": [
    "import cv2\n",
    "import gc\n",
    "import albumentations as A\n",
    "from tqdm import tqdm\n",
    "import random\n",
    "import matplotlib.pyplot as plt\n",
    "import time\n"
   ]
  },
  {
   "cell_type": "code",
   "execution_count": 3,
   "id": "2b79994d",
   "metadata": {
    "editable": false,
    "execution": {
     "iopub.execute_input": "2022-03-16T10:42:51.281675Z",
     "iopub.status.busy": "2022-03-16T10:42:51.280960Z",
     "iopub.status.idle": "2022-03-16T10:42:56.901744Z",
     "shell.execute_reply": "2022-03-16T10:42:56.901209Z",
     "shell.execute_reply.started": "2022-03-16T10:32:30.169126Z"
    },
    "papermill": {
     "duration": 5.655723,
     "end_time": "2022-03-16T10:42:56.901923",
     "exception": false,
     "start_time": "2022-03-16T10:42:51.246200",
     "status": "completed"
    },
    "tags": []
   },
   "outputs": [],
   "source": [
    "\n",
    "\n",
    "dataset = pd.read_csv('../input/challenges-in-representation-learning-facial-expression-recognition-challenge/icml_face_data.csv')\n",
    "dataset.columns = ['emotion', 'Usage', 'pixels']\n",
    "test_dataset  = dataset.loc[dataset[\"Usage\"] == 'PublicTest',['emotion','pixels']]\n",
    "train_dataset = dataset.loc[dataset[\"Usage\"] == 'Training', ['emotion', 'pixels']]\n",
    "validation_dataset = dataset.loc[dataset[\"Usage\"] == 'PrivateTest', ['emotion', 'pixels']]"
   ]
  },
  {
   "cell_type": "code",
   "execution_count": 4,
   "id": "afa8c861",
   "metadata": {
    "editable": false,
    "execution": {
     "iopub.execute_input": "2022-03-16T10:42:56.965711Z",
     "iopub.status.busy": "2022-03-16T10:42:56.965083Z",
     "iopub.status.idle": "2022-03-16T10:42:56.969673Z",
     "shell.execute_reply": "2022-03-16T10:42:56.969152Z",
     "shell.execute_reply.started": "2022-03-16T10:32:36.015273Z"
    },
    "papermill": {
     "duration": 0.039137,
     "end_time": "2022-03-16T10:42:56.969851",
     "exception": false,
     "start_time": "2022-03-16T10:42:56.930714",
     "status": "completed"
    },
    "tags": []
   },
   "outputs": [],
   "source": [
    "def pixels_to_array(pixels):\n",
    "    array = np.array(pixels.split(),'uint8')\n",
    "    return array\n",
    "\n",
    "def image_reshape(data):\n",
    "    image = np.reshape(data['pixels'].to_list(),(data.shape[0],48,48,1))\n",
    "    image = np.repeat(image, 3, -1)\n",
    "    return image"
   ]
  },
  {
   "cell_type": "code",
   "execution_count": 5,
   "id": "966e37de",
   "metadata": {
    "editable": false,
    "execution": {
     "iopub.execute_input": "2022-03-16T10:42:57.038308Z",
     "iopub.status.busy": "2022-03-16T10:42:57.037253Z",
     "iopub.status.idle": "2022-03-16T10:43:14.002164Z",
     "shell.execute_reply": "2022-03-16T10:43:14.002789Z",
     "shell.execute_reply.started": "2022-03-16T10:32:36.024198Z"
    },
    "papermill": {
     "duration": 17.003377,
     "end_time": "2022-03-16T10:43:14.002970",
     "exception": false,
     "start_time": "2022-03-16T10:42:56.999593",
     "status": "completed"
    },
    "tags": []
   },
   "outputs": [
    {
     "name": "stdout",
     "output_type": "stream",
     "text": [
      "Train:\n",
      "<class 'pandas.core.series.Series'>\n",
      "(28709, 2)\n",
      "Validation:\n",
      "<class 'pandas.core.series.Series'>\n",
      "(3589, 2)\n",
      "Test:\n",
      "<class 'pandas.core.series.Series'>\n",
      "(3589, 2)\n",
      "(28709, 48, 48, 3)\n",
      "(3589, 48, 48, 3)\n",
      "(3589, 48, 48, 3)\n"
     ]
    },
    {
     "data": {
      "text/plain": [
       "0"
      ]
     },
     "execution_count": 5,
     "metadata": {},
     "output_type": "execute_result"
    }
   ],
   "source": [
    "\n",
    "train_dataset['pixels'] = train_dataset['pixels'].apply(pixels_to_array)\n",
    "test_dataset['pixels']  = test_dataset['pixels'].apply(pixels_to_array)\n",
    "validation_dataset['pixels'] = validation_dataset['pixels'].apply(pixels_to_array)\n",
    "\n",
    "print(\"Train:\")\n",
    "print(type(train_dataset['pixels']))\n",
    "print(train_dataset.shape)\n",
    "\n",
    "print(\"Validation:\")\n",
    "print(type(validation_dataset['pixels']))\n",
    "print(validation_dataset.shape)\n",
    "\n",
    "print(\"Test:\")\n",
    "print(type(test_dataset['pixels']))\n",
    "print(test_dataset.shape)\n",
    "\n",
    "\n",
    "X_train = image_reshape(train_dataset)\n",
    "y_train = train_dataset['emotion']\n",
    "print(X_train.shape)\n",
    "\n",
    "X_test = image_reshape(test_dataset)\n",
    "y_test = test_dataset['emotion']\n",
    "print(X_test.shape)\n",
    "\n",
    "X_val = image_reshape(validation_dataset)\n",
    "y_val = validation_dataset['emotion']\n",
    "print(X_val.shape)\n",
    "del dataset\n",
    "gc.collect()"
   ]
  },
  {
   "cell_type": "code",
   "execution_count": 6,
   "id": "d66c5498",
   "metadata": {
    "editable": false,
    "execution": {
     "iopub.execute_input": "2022-03-16T10:43:14.068716Z",
     "iopub.status.busy": "2022-03-16T10:43:14.067716Z",
     "iopub.status.idle": "2022-03-16T10:43:14.073354Z",
     "shell.execute_reply": "2022-03-16T10:43:14.072758Z",
     "shell.execute_reply.started": "2022-03-16T10:32:48.177243Z"
    },
    "papermill": {
     "duration": 0.038833,
     "end_time": "2022-03-16T10:43:14.073498",
     "exception": false,
     "start_time": "2022-03-16T10:43:14.034665",
     "status": "completed"
    },
    "tags": []
   },
   "outputs": [],
   "source": [
    "y_train, y_val, y_test = np.array(y_train), np.array(y_val), np.array(y_test)"
   ]
  },
  {
   "cell_type": "code",
   "execution_count": 7,
   "id": "331f08fc",
   "metadata": {
    "execution": {
     "iopub.execute_input": "2022-03-16T10:43:14.141395Z",
     "iopub.status.busy": "2022-03-16T10:43:14.140571Z",
     "iopub.status.idle": "2022-03-16T10:43:14.143608Z",
     "shell.execute_reply": "2022-03-16T10:43:14.143022Z",
     "shell.execute_reply.started": "2022-03-16T10:32:48.182824Z"
    },
    "papermill": {
     "duration": 0.039342,
     "end_time": "2022-03-16T10:43:14.143757",
     "exception": false,
     "start_time": "2022-03-16T10:43:14.104415",
     "status": "completed"
    },
    "tags": []
   },
   "outputs": [],
   "source": [
    "def TakeDir(Dir, Data, y):\n",
    "    numbers_name = np.arange(1,1000000)\n",
    "    for i in range(len(Data)):\n",
    "        namefile = \"Data_\"+ str(numbers_name[i]) +\".jpg\"\n",
    "        cv2.imwrite(os.path.join(Dir,str(y[i]),namefile), Data[i])"
   ]
  },
  {
   "cell_type": "code",
   "execution_count": 8,
   "id": "af634fc0",
   "metadata": {
    "editable": false,
    "execution": {
     "iopub.execute_input": "2022-03-16T10:43:14.215260Z",
     "iopub.status.busy": "2022-03-16T10:43:14.214213Z",
     "iopub.status.idle": "2022-03-16T10:43:18.225487Z",
     "shell.execute_reply": "2022-03-16T10:43:18.226224Z",
     "shell.execute_reply.started": "2022-03-16T10:32:48.200154Z"
    },
    "papermill": {
     "duration": 4.050571,
     "end_time": "2022-03-16T10:43:18.226408",
     "exception": false,
     "start_time": "2022-03-16T10:43:14.175837",
     "status": "completed"
    },
    "tags": []
   },
   "outputs": [],
   "source": [
    "dataset_dir = \"./dataset\"\n",
    "treino_dir = \"./dataset/train\"\n",
    "val_dir = \"./dataset/validation\"\n",
    "test_dir = \"./dataset/test\"\n",
    "\n",
    "os.makedirs(dataset_dir,exist_ok=True)\n",
    "os.makedirs(treino_dir,exist_ok=True)\n",
    "os.makedirs(val_dir,exist_ok=True)\n",
    "os.makedirs(test_dir, exist_ok=True)\n",
    "\n",
    "labels = [0,1,2,3,4,5,6]\n",
    "\n",
    "for label in labels:\n",
    "  os.makedirs(os.path.join(treino_dir,str(label)),exist_ok=True)\n",
    "  os.makedirs(os.path.join(val_dir,str(label)),exist_ok=True)\n",
    "  os.makedirs(os.path.join(test_dir,str(label)),exist_ok=True)\n",
    "\n",
    "numbers_name = np.arange(1,1000000)\n",
    "\n",
    "TakeDir(treino_dir, X_train, y_train)\n",
    "TakeDir(val_dir, X_val, y_val)\n",
    "TakeDir(test_dir, X_test, y_test)"
   ]
  },
  {
   "cell_type": "code",
   "execution_count": 9,
   "id": "866c9251",
   "metadata": {
    "execution": {
     "iopub.execute_input": "2022-03-16T10:43:18.290340Z",
     "iopub.status.busy": "2022-03-16T10:43:18.289615Z",
     "iopub.status.idle": "2022-03-16T10:43:18.295576Z",
     "shell.execute_reply": "2022-03-16T10:43:18.294950Z",
     "shell.execute_reply.started": "2022-03-16T10:32:52.116669Z"
    },
    "papermill": {
     "duration": 0.038711,
     "end_time": "2022-03-16T10:43:18.295713",
     "exception": false,
     "start_time": "2022-03-16T10:43:18.257002",
     "status": "completed"
    },
    "tags": []
   },
   "outputs": [],
   "source": [
    "def Plot(dataset):\n",
    "    plt.figure(figsize = (10,8))\n",
    "    emotions = ['Angry','Disgust','Fear','Happy','Sad','Surprise','Neutral']\n",
    "    emotion_prop = (dataset.emotion.value_counts() / len(dataset)).to_frame().sort_index(ascending=True)\n",
    "    plt.bar(x=emotions, height=emotion_prop['emotion'])    \n"
   ]
  },
  {
   "cell_type": "code",
   "execution_count": null,
   "id": "7b3b31c1",
   "metadata": {
    "papermill": {
     "duration": 0.030078,
     "end_time": "2022-03-16T10:43:18.356452",
     "exception": false,
     "start_time": "2022-03-16T10:43:18.326374",
     "status": "completed"
    },
    "tags": []
   },
   "outputs": [],
   "source": []
  },
  {
   "cell_type": "code",
   "execution_count": 10,
   "id": "b280c3b2",
   "metadata": {
    "execution": {
     "iopub.execute_input": "2022-03-16T10:43:18.425502Z",
     "iopub.status.busy": "2022-03-16T10:43:18.424761Z",
     "iopub.status.idle": "2022-03-16T10:43:18.658928Z",
     "shell.execute_reply": "2022-03-16T10:43:18.659502Z",
     "shell.execute_reply.started": "2022-03-16T10:32:52.123871Z"
    },
    "papermill": {
     "duration": 0.273009,
     "end_time": "2022-03-16T10:43:18.659687",
     "exception": false,
     "start_time": "2022-03-16T10:43:18.386678",
     "status": "completed"
    },
    "tags": []
   },
   "outputs": [
    {
     "data": {
      "image/png": "[encoded data removed]",
      "text/plain": [
       "<Figure size 720x576 with 1 Axes>"
      ]
     },
     "metadata": {
      "needs_background": "light"
     },
     "output_type": "display_data"
    }
   ],
   "source": [
    "Plot(train_dataset)"
   ]
  },
  {
   "cell_type": "code",
   "execution_count": 11,
   "id": "8a6da59e",
   "metadata": {
    "execution": {
     "iopub.execute_input": "2022-03-16T10:43:18.725466Z",
     "iopub.status.busy": "2022-03-16T10:43:18.724865Z",
     "iopub.status.idle": "2022-03-16T10:43:18.933658Z",
     "shell.execute_reply": "2022-03-16T10:43:18.933133Z",
     "shell.execute_reply.started": "2022-03-16T10:32:52.354629Z"
    },
    "papermill": {
     "duration": 0.242645,
     "end_time": "2022-03-16T10:43:18.933828",
     "exception": false,
     "start_time": "2022-03-16T10:43:18.691183",
     "status": "completed"
    },
    "tags": []
   },
   "outputs": [
    {
     "data": {
      "image/png": "[encoded data removed]",
      "text/plain": [
       "<Figure size 720x576 with 1 Axes>"
      ]
     },
     "metadata": {
      "needs_background": "light"
     },
     "output_type": "display_data"
    }
   ],
   "source": [
    "Plot(test_dataset)"
   ]
  },
  {
   "cell_type": "code",
   "execution_count": 12,
   "id": "04b1d231",
   "metadata": {
    "execution": {
     "iopub.execute_input": "2022-03-16T10:43:19.035218Z",
     "iopub.status.busy": "2022-03-16T10:43:19.030089Z",
     "iopub.status.idle": "2022-03-16T10:43:19.211995Z",
     "shell.execute_reply": "2022-03-16T10:43:19.212534Z",
     "shell.execute_reply.started": "2022-03-16T10:32:52.551048Z"
    },
    "papermill": {
     "duration": 0.247036,
     "end_time": "2022-03-16T10:43:19.212749",
     "exception": false,
     "start_time": "2022-03-16T10:43:18.965713",
     "status": "completed"
    },
    "tags": []
   },
   "outputs": [
    {
     "data": {
      "image/png": "[encoded data removed]",
      "text/plain": [
       "<Figure size 720x576 with 1 Axes>"
      ]
     },
     "metadata": {
      "needs_background": "light"
     },
     "output_type": "display_data"
    }
   ],
   "source": [
    "Plot(validation_dataset)"
   ]
  },
  {
   "cell_type": "code",
   "execution_count": null,
   "id": "705271ad",
   "metadata": {
    "papermill": {
     "duration": 0.040136,
     "end_time": "2022-03-16T10:43:19.288055",
     "exception": false,
     "start_time": "2022-03-16T10:43:19.247919",
     "status": "completed"
    },
    "tags": []
   },
   "outputs": [],
   "source": []
  },
  {
   "cell_type": "code",
   "execution_count": 13,
   "id": "ff3ad7a5",
   "metadata": {
    "execution": {
     "iopub.execute_input": "2022-03-16T10:43:19.358813Z",
     "iopub.status.busy": "2022-03-16T10:43:19.358188Z",
     "iopub.status.idle": "2022-03-16T10:43:19.363810Z",
     "shell.execute_reply": "2022-03-16T10:43:19.364320Z",
     "shell.execute_reply.started": "2022-03-16T10:32:52.744277Z"
    },
    "papermill": {
     "duration": 0.042827,
     "end_time": "2022-03-16T10:43:19.364501",
     "exception": false,
     "start_time": "2022-03-16T10:43:19.321674",
     "status": "completed"
    },
    "tags": []
   },
   "outputs": [],
   "source": [
    "def get_training_augmentation():\n",
    "    train_transform = [  \n",
    "        A.HorizontalFlip(p=0.5),\n",
    "        A.ShiftScaleRotate(scale_limit=0.2, rotate_limit=0.4, shift_limit=0.4, p=1, border_mode= cv2.BORDER_REPLICATE),\n",
    "        A.Perspective(p=0.6),\n",
    "        A.Affine(p=0.5, scale= 0.9, rotate = 0.5, fit_output= True),\n",
    "        A.GaussNoise(p=0.5),\n",
    "        A.Sharpen(p=0.5),\n",
    "    ]\n",
    "\n",
    "    return A.Compose(train_transform)\n",
    "    "
   ]
  },
  {
   "cell_type": "code",
   "execution_count": null,
   "id": "0d53548f",
   "metadata": {
    "papermill": {
     "duration": 0.03305,
     "end_time": "2022-03-16T10:43:19.430599",
     "exception": false,
     "start_time": "2022-03-16T10:43:19.397549",
     "status": "completed"
    },
    "tags": []
   },
   "outputs": [],
   "source": []
  },
  {
   "cell_type": "code",
   "execution_count": 14,
   "id": "1c0f2654",
   "metadata": {
    "execution": {
     "iopub.execute_input": "2022-03-16T10:43:19.499662Z",
     "iopub.status.busy": "2022-03-16T10:43:19.499011Z",
     "iopub.status.idle": "2022-03-16T10:43:19.506740Z",
     "shell.execute_reply": "2022-03-16T10:43:19.507288Z",
     "shell.execute_reply.started": "2022-03-16T10:32:52.753517Z"
    },
    "papermill": {
     "duration": 0.043707,
     "end_time": "2022-03-16T10:43:19.507455",
     "exception": false,
     "start_time": "2022-03-16T10:43:19.463748",
     "status": "completed"
    },
    "tags": []
   },
   "outputs": [],
   "source": [
    "def data_augmentation_from_directory(data_path, XGenerate):\n",
    "    transform = get_training_augmentation()\n",
    "    \n",
    "    for folder in tqdm(data_path):\n",
    "        FolofLab = [os.path.join(folder, name) for name in os.listdir(folder)]\n",
    "        f = [b for b in FolofLab if os.path.isfile(b)]\n",
    "        \n",
    "        for pathtoimg in f:\n",
    "            img = cv2.imread(pathtoimg)[:,:,::-1]\n",
    "        \n",
    "        for pathtoimg in f:\n",
    "            img = cv2.imread(pathtoimg)[:,:,::-1]\n",
    "            \n",
    "            for i in range(XGenerate):\n",
    "                augment = transform(image = img)\n",
    "                aug_img = augment['image']\n",
    "                name_img = 'Aug_{}.jpg'.format(random.randint(1,100000))\n",
    "                cv2.imwrite(os.path.join(folder, name_img), aug_img)"
   ]
  },
  {
   "cell_type": "code",
   "execution_count": 15,
   "id": "aeb0999a",
   "metadata": {
    "execution": {
     "iopub.execute_input": "2022-03-16T10:43:19.576588Z",
     "iopub.status.busy": "2022-03-16T10:43:19.575970Z",
     "iopub.status.idle": "2022-03-16T10:43:19.582838Z",
     "shell.execute_reply": "2022-03-16T10:43:19.582239Z",
     "shell.execute_reply.started": "2022-03-16T10:32:52.765426Z"
    },
    "papermill": {
     "duration": 0.042333,
     "end_time": "2022-03-16T10:43:19.582987",
     "exception": false,
     "start_time": "2022-03-16T10:43:19.540654",
     "status": "completed"
    },
    "tags": []
   },
   "outputs": [],
   "source": [
    "def AugmentateTrain_with_specific_class(Directory, Label, XDirectory, specificLabel, XspecificLable):\n",
    "    labels = Label\n",
    "    \n",
    "    data_path = []\n",
    "    \n",
    "    for label in labels:\n",
    "        data_path.append(os.path.join(Directory, str(label)))\n",
    "    data_augmentation_from_directory(data_path, XGenerate = XDirectory)\n",
    "    \n",
    "    data_path = []\n",
    "    for label in specificLabel:\n",
    "        data_path.append(os.path.join(Directory, str(label)))\n",
    "    data_augmentation_from_directory(data_path, XGenerate = XDirectory)"
   ]
  },
  {
   "cell_type": "code",
   "execution_count": 16,
   "id": "27484835",
   "metadata": {
    "execution": {
     "iopub.execute_input": "2022-03-16T10:43:19.653851Z",
     "iopub.status.busy": "2022-03-16T10:43:19.652923Z",
     "iopub.status.idle": "2022-03-16T10:43:20.416964Z",
     "shell.execute_reply": "2022-03-16T10:43:20.417712Z",
     "shell.execute_reply.started": "2022-03-16T10:32:52.777427Z"
    },
    "papermill": {
     "duration": 0.802161,
     "end_time": "2022-03-16T10:43:20.417983",
     "exception": false,
     "start_time": "2022-03-16T10:43:19.615822",
     "status": "completed"
    },
    "tags": []
   },
   "outputs": [
    {
     "name": "stdout",
     "output_type": "stream",
     "text": [
      "__notebook__.ipynb  \u001b[0m\u001b[01;34mdataset\u001b[0m/\r\n"
     ]
    }
   ],
   "source": [
    "ls"
   ]
  },
  {
   "cell_type": "code",
   "execution_count": 17,
   "id": "45a670c6",
   "metadata": {
    "execution": {
     "iopub.execute_input": "2022-03-16T10:43:20.508640Z",
     "iopub.status.busy": "2022-03-16T10:43:20.507753Z",
     "iopub.status.idle": "2022-03-16T10:43:21.256748Z",
     "shell.execute_reply": "2022-03-16T10:43:21.256156Z",
     "shell.execute_reply.started": "2022-03-16T10:32:53.597666Z"
    },
    "papermill": {
     "duration": 0.798795,
     "end_time": "2022-03-16T10:43:21.256942",
     "exception": false,
     "start_time": "2022-03-16T10:43:20.458147",
     "status": "completed"
    },
    "tags": []
   },
   "outputs": [],
   "source": [
    "!mkdir './dataset/train_augmented'"
   ]
  },
  {
   "cell_type": "code",
   "execution_count": 18,
   "id": "3ceb5ccc",
   "metadata": {
    "execution": {
     "iopub.execute_input": "2022-03-16T10:43:21.326861Z",
     "iopub.status.busy": "2022-03-16T10:43:21.326186Z",
     "iopub.status.idle": "2022-03-16T10:43:23.258050Z",
     "shell.execute_reply": "2022-03-16T10:43:23.257321Z",
     "shell.execute_reply.started": "2022-03-16T10:32:54.397884Z"
    },
    "papermill": {
     "duration": 1.968033,
     "end_time": "2022-03-16T10:43:23.258205",
     "exception": false,
     "start_time": "2022-03-16T10:43:21.290172",
     "status": "completed"
    },
    "tags": []
   },
   "outputs": [],
   "source": [
    "!cp -r './dataset/train/.' './dataset/train_augmented'"
   ]
  },
  {
   "cell_type": "code",
   "execution_count": 19,
   "id": "13790151",
   "metadata": {
    "execution": {
     "iopub.execute_input": "2022-03-16T10:43:23.329103Z",
     "iopub.status.busy": "2022-03-16T10:43:23.328447Z",
     "iopub.status.idle": "2022-03-16T10:49:23.432187Z",
     "shell.execute_reply": "2022-03-16T10:49:23.431545Z",
     "shell.execute_reply.started": "2022-03-16T10:32:56.395655Z"
    },
    "papermill": {
     "duration": 360.141134,
     "end_time": "2022-03-16T10:49:23.432336",
     "exception": false,
     "start_time": "2022-03-16T10:43:23.291202",
     "status": "completed"
    },
    "tags": []
   },
   "outputs": [],
   "source": [
    "time.sleep(360)"
   ]
  },
  {
   "cell_type": "code",
   "execution_count": 20,
   "id": "29184651",
   "metadata": {
    "execution": {
     "iopub.execute_input": "2022-03-16T10:49:23.508039Z",
     "iopub.status.busy": "2022-03-16T10:49:23.507343Z",
     "iopub.status.idle": "2022-03-16T10:51:14.566383Z",
     "shell.execute_reply": "2022-03-16T10:51:14.564701Z",
     "shell.execute_reply.started": "2022-03-16T10:38:56.500672Z"
    },
    "papermill": {
     "duration": 111.099559,
     "end_time": "2022-03-16T10:51:14.566539",
     "exception": false,
     "start_time": "2022-03-16T10:49:23.466980",
     "status": "completed"
    },
    "tags": []
   },
   "outputs": [
    {
     "name": "stderr",
     "output_type": "stream",
     "text": [
      "100%|██████████| 6/6 [01:49<00:00, 18.23s/it]\n",
      "100%|██████████| 1/1 [00:01<00:00,  1.67s/it]\n"
     ]
    }
   ],
   "source": [
    "AugmentateTrain_with_specific_class('./dataset/train_augmented', [0,2,3,4,5,6], 3, [1],6)"
   ]
  },
  {
   "cell_type": "code",
   "execution_count": 21,
   "id": "fc157714",
   "metadata": {
    "execution": {
     "iopub.execute_input": "2022-03-16T10:51:14.649490Z",
     "iopub.status.busy": "2022-03-16T10:51:14.648801Z",
     "iopub.status.idle": "2022-03-16T10:51:15.467365Z",
     "shell.execute_reply": "2022-03-16T10:51:15.466827Z",
     "shell.execute_reply.started": "2022-03-16T10:40:44.725563Z"
    },
    "papermill": {
     "duration": 0.861986,
     "end_time": "2022-03-16T10:51:15.467512",
     "exception": false,
     "start_time": "2022-03-16T10:51:14.605526",
     "status": "completed"
    },
    "tags": []
   },
   "outputs": [
    {
     "name": "stdout",
     "output_type": "stream",
     "text": [
      "total 72\r\n",
      "drwxr-xr-x 3 root root  4096 Mar 16 10:43 \u001b[0m\u001b[01;34m.\u001b[0m/\r\n",
      "drwxr-xr-x 6 root root  4096 Mar 16 10:42 \u001b[01;34m..\u001b[0m/\r\n",
      "---------- 1 root root 59049 Mar 16 10:51 __notebook__.ipynb\r\n",
      "drwxr-xr-x 6 root root  4096 Mar 16 10:43 \u001b[01;34mdataset\u001b[0m/\r\n"
     ]
    }
   ],
   "source": [
    "ls -la"
   ]
  },
  {
   "cell_type": "code",
   "execution_count": 22,
   "id": "aeff85ae",
   "metadata": {
    "execution": {
     "iopub.execute_input": "2022-03-16T10:51:15.552207Z",
     "iopub.status.busy": "2022-03-16T10:51:15.551330Z",
     "iopub.status.idle": "2022-03-16T10:51:15.556177Z",
     "shell.execute_reply": "2022-03-16T10:51:15.555476Z",
     "shell.execute_reply.started": "2022-03-16T10:40:52.175107Z"
    },
    "papermill": {
     "duration": 0.050039,
     "end_time": "2022-03-16T10:51:15.556318",
     "exception": false,
     "start_time": "2022-03-16T10:51:15.506279",
     "status": "completed"
    },
    "tags": []
   },
   "outputs": [
    {
     "name": "stdout",
     "output_type": "stream",
     "text": [
      "/kaggle/working/dataset\n"
     ]
    }
   ],
   "source": [
    "cd dataset"
   ]
  },
  {
   "cell_type": "code",
   "execution_count": 23,
   "id": "3e5e678e",
   "metadata": {
    "execution": {
     "iopub.execute_input": "2022-03-16T10:51:15.641572Z",
     "iopub.status.busy": "2022-03-16T10:51:15.640938Z",
     "iopub.status.idle": "2022-03-16T10:51:16.408484Z",
     "shell.execute_reply": "2022-03-16T10:51:16.407679Z",
     "shell.execute_reply.started": "2022-03-16T10:40:59.474613Z"
    },
    "papermill": {
     "duration": 0.810656,
     "end_time": "2022-03-16T10:51:16.408646",
     "exception": false,
     "start_time": "2022-03-16T10:51:15.597990",
     "status": "completed"
    },
    "tags": []
   },
   "outputs": [
    {
     "name": "stdout",
     "output_type": "stream",
     "text": [
      "total 24\r\n",
      "drwxr-xr-x 6 root root 4096 Mar 16 10:43 \u001b[0m\u001b[01;34m.\u001b[0m/\r\n",
      "drwxr-xr-x 3 root root 4096 Mar 16 10:43 \u001b[01;34m..\u001b[0m/\r\n",
      "drwxr-xr-x 9 root root 4096 Mar 16 10:43 \u001b[01;34mtest\u001b[0m/\r\n",
      "drwxr-xr-x 9 root root 4096 Mar 16 10:43 \u001b[01;34mtrain\u001b[0m/\r\n",
      "drwxr-xr-x 9 root root 4096 Mar 16 10:43 \u001b[01;34mtrain_augmented\u001b[0m/\r\n",
      "drwxr-xr-x 9 root root 4096 Mar 16 10:43 \u001b[01;34mvalidation\u001b[0m/\r\n"
     ]
    }
   ],
   "source": [
    "ls -la"
   ]
  },
  {
   "cell_type": "code",
   "execution_count": 24,
   "id": "ba1ffce6",
   "metadata": {
    "execution": {
     "iopub.execute_input": "2022-03-16T10:51:16.493143Z",
     "iopub.status.busy": "2022-03-16T10:51:16.492381Z",
     "iopub.status.idle": "2022-03-16T10:51:16.496136Z",
     "shell.execute_reply": "2022-03-16T10:51:16.495449Z",
     "shell.execute_reply.started": "2022-03-16T10:41:09.054394Z"
    },
    "papermill": {
     "duration": 0.04818,
     "end_time": "2022-03-16T10:51:16.496291",
     "exception": false,
     "start_time": "2022-03-16T10:51:16.448111",
     "status": "completed"
    },
    "tags": []
   },
   "outputs": [
    {
     "name": "stdout",
     "output_type": "stream",
     "text": [
      "/kaggle/working/dataset/train_augmented\n"
     ]
    }
   ],
   "source": [
    "cd train_augmented"
   ]
  },
  {
   "cell_type": "code",
   "execution_count": 25,
   "id": "cfadc985",
   "metadata": {
    "execution": {
     "iopub.execute_input": "2022-03-16T10:51:16.581679Z",
     "iopub.status.busy": "2022-03-16T10:51:16.580982Z",
     "iopub.status.idle": "2022-03-16T10:51:17.365664Z",
     "shell.execute_reply": "2022-03-16T10:51:17.365117Z",
     "shell.execute_reply.started": "2022-03-16T10:41:15.615219Z"
    },
    "papermill": {
     "duration": 0.829506,
     "end_time": "2022-03-16T10:51:17.365837",
     "exception": false,
     "start_time": "2022-03-16T10:51:16.536331",
     "status": "completed"
    },
    "tags": []
   },
   "outputs": [
    {
     "name": "stdout",
     "output_type": "stream",
     "text": [
      "total 3680\r\n",
      "drwxr-xr-x 9 root root   4096 Mar 16 10:43 \u001b[0m\u001b[01;34m.\u001b[0m/\r\n",
      "drwxr-xr-x 6 root root   4096 Mar 16 10:43 \u001b[01;34m..\u001b[0m/\r\n",
      "drwxr-xr-x 2 root root 507904 Mar 16 10:49 \u001b[01;34m0\u001b[0m/\r\n",
      "drwxr-xr-x 2 root root  69632 Mar 16 10:51 \u001b[01;34m1\u001b[0m/\r\n",
      "drwxr-xr-x 2 root root 544768 Mar 16 10:49 \u001b[01;34m2\u001b[0m/\r\n",
      "drwxr-xr-x 2 root root 929792 Mar 16 10:50 \u001b[01;34m3\u001b[0m/\r\n",
      "drwxr-xr-x 2 root root 614400 Mar 16 10:50 \u001b[01;34m4\u001b[0m/\r\n",
      "drwxr-xr-x 2 root root 458752 Mar 16 10:50 \u001b[01;34m5\u001b[0m/\r\n",
      "drwxr-xr-x 2 root root 634880 Mar 16 10:51 \u001b[01;34m6\u001b[0m/\r\n"
     ]
    }
   ],
   "source": [
    "ls -la"
   ]
  }
 ],
 "metadata": {
  "kernelspec": {
   "display_name": "Python 3",
   "language": "python",
   "name": "python3"
  },
  "language_info": {
   "codemirror_mode": {
    "name": "ipython",
    "version": 3
   },
   "file_extension": ".py",
   "mimetype": "text/x-python",
   "name": "python",
   "nbconvert_exporter": "python",
   "pygments_lexer": "ipython3",
   "version": "3.7.12"
  },
  "papermill": {
   "default_parameters": {},
   "duration": 519.696572,
   "end_time": "2022-03-16T10:51:18.319190",
   "environment_variables": {},
   "exception": null,
   "input_path": "__notebook__.ipynb",
   "output_path": "__notebook__.ipynb",
   "parameters": {},
   "start_time": "2022-03-16T10:42:38.622618",
   "version": "2.3.3"
  }
 },
 "nbformat": 4,
 "nbformat_minor": 5
}
